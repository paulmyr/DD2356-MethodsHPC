{
 "cells": [
  {
   "cell_type": "code",
   "execution_count": 3,
   "id": "6fbd7718",
   "metadata": {},
   "outputs": [],
   "source": [
    "import pandas as pd\n",
    "\n",
    "df_static = pd.read_csv(\"static.csv\")\n",
    "df_dynamic = pd.read_csv(\"dynamic.csv\")\n",
    "df_guided = pd.read_csv(\"guided.csv\")"
   ]
  }
 ],
 "metadata": {
  "kernelspec": {
   "display_name": "Python 3",
   "language": "python",
   "name": "python3"
  },
  "language_info": {
   "codemirror_mode": {
    "name": "ipython",
    "version": 3
   },
   "file_extension": ".py",
   "mimetype": "text/x-python",
   "name": "python",
   "nbconvert_exporter": "python",
   "pygments_lexer": "ipython3",
   "version": "3.12.8"
  }
 },
 "nbformat": 4,
 "nbformat_minor": 5
}
