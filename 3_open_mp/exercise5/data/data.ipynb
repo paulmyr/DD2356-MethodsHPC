{
 "cells": [
  {
   "cell_type": "code",
   "execution_count": 2,
   "id": "1db691ee",
   "metadata": {},
   "outputs": [],
   "source": [
    "import pandas as pd\n",
    "df_static = pd.read_csv(\"static.csv\")\n",
    "df_speedup = pd.read_csv(\"static_500.csv\")"
   ]
  },
  {
   "cell_type": "code",
   "execution_count": 3,
   "id": "890d0132",
   "metadata": {},
   "outputs": [],
   "source": [
    "time_serial = df_speedup.iloc[0,1]\n",
    "speedup_rate = time_serial/df_speedup.iloc[:,1]\n",
    "df_speedup_final = pd.concat([df_speedup, speedup_rate], axis=1)\n",
    "df_speedup_final.to_csv(\"static_500_speedup.csv\")"
   ]
  },
  {
   "cell_type": "code",
   "execution_count": null,
   "id": "2daf8081",
   "metadata": {},
   "outputs": [],
   "source": []
  }
 ],
 "metadata": {
  "kernelspec": {
   "display_name": "Python 3",
   "language": "python",
   "name": "python3"
  },
  "language_info": {
   "codemirror_mode": {
    "name": "ipython",
    "version": 3
   },
   "file_extension": ".py",
   "mimetype": "text/x-python",
   "name": "python",
   "nbconvert_exporter": "python",
   "pygments_lexer": "ipython3",
   "version": "3.12.8"
  }
 },
 "nbformat": 4,
 "nbformat_minor": 5
}
